{
 "cells": [
  {
   "cell_type": "markdown",
   "id": "fa8218c7-f4e7-40dc-b99f-6257246c7c89",
   "metadata": {},
   "source": [
    "# Analysis using Maths and Statistics"
   ]
  },
  {
   "cell_type": "code",
   "execution_count": 15,
   "id": "9cc4f8fc-06eb-4038-bfa6-78a4f650d482",
   "metadata": {},
   "outputs": [],
   "source": [
    "import pandas as pd\n",
    "import numpy as np"
   ]
  },
  {
   "cell_type": "code",
   "execution_count": 60,
   "id": "c7d0bd5d-3ac9-4c19-91b5-b6211bb1ca8e",
   "metadata": {},
   "outputs": [
    {
     "data": {
      "text/html": [
       "<div>\n",
       "<style scoped>\n",
       "    .dataframe tbody tr th:only-of-type {\n",
       "        vertical-align: middle;\n",
       "    }\n",
       "\n",
       "    .dataframe tbody tr th {\n",
       "        vertical-align: top;\n",
       "    }\n",
       "\n",
       "    .dataframe thead th {\n",
       "        text-align: right;\n",
       "    }\n",
       "</style>\n",
       "<table border=\"1\" class=\"dataframe\">\n",
       "  <thead>\n",
       "    <tr style=\"text-align: right;\">\n",
       "      <th></th>\n",
       "      <th>cust_id</th>\n",
       "      <th>gender</th>\n",
       "      <th>age</th>\n",
       "      <th>no_of_purchases</th>\n",
       "      <th>amount_spend</th>\n",
       "      <th>time_spent_on_site</th>\n",
       "      <th>cross_sell_conversion_rate</th>\n",
       "    </tr>\n",
       "  </thead>\n",
       "  <tbody>\n",
       "    <tr>\n",
       "      <th>0</th>\n",
       "      <td>C0001</td>\n",
       "      <td>Male</td>\n",
       "      <td>36</td>\n",
       "      <td>4</td>\n",
       "      <td>400</td>\n",
       "      <td>41.02</td>\n",
       "      <td>0.597870</td>\n",
       "    </tr>\n",
       "    <tr>\n",
       "      <th>1</th>\n",
       "      <td>C0002</td>\n",
       "      <td>Male</td>\n",
       "      <td>42</td>\n",
       "      <td>4</td>\n",
       "      <td>360</td>\n",
       "      <td>49.42</td>\n",
       "      <td>0.087063</td>\n",
       "    </tr>\n",
       "    <tr>\n",
       "      <th>2</th>\n",
       "      <td>C0003</td>\n",
       "      <td>Male</td>\n",
       "      <td>40</td>\n",
       "      <td>2</td>\n",
       "      <td>60</td>\n",
       "      <td>35.78</td>\n",
       "      <td>0.441260</td>\n",
       "    </tr>\n",
       "    <tr>\n",
       "      <th>3</th>\n",
       "      <td>C0004</td>\n",
       "      <td>Female</td>\n",
       "      <td>33</td>\n",
       "      <td>3</td>\n",
       "      <td>240</td>\n",
       "      <td>39.17</td>\n",
       "      <td>0.553303</td>\n",
       "    </tr>\n",
       "    <tr>\n",
       "      <th>4</th>\n",
       "      <td>C0005</td>\n",
       "      <td>Male</td>\n",
       "      <td>24</td>\n",
       "      <td>6</td>\n",
       "      <td>120</td>\n",
       "      <td>63.42</td>\n",
       "      <td>0.860697</td>\n",
       "    </tr>\n",
       "    <tr>\n",
       "      <th>5</th>\n",
       "      <td>C0006</td>\n",
       "      <td>Male</td>\n",
       "      <td>30</td>\n",
       "      <td>3</td>\n",
       "      <td>300</td>\n",
       "      <td>30.87</td>\n",
       "      <td>0.205205</td>\n",
       "    </tr>\n",
       "  </tbody>\n",
       "</table>\n",
       "</div>"
      ],
      "text/plain": [
       "  cust_id  gender  age  no_of_purchases  amount_spend  time_spent_on_site  \\\n",
       "0   C0001    Male   36                4           400               41.02   \n",
       "1   C0002    Male   42                4           360               49.42   \n",
       "2   C0003    Male   40                2            60               35.78   \n",
       "3   C0004  Female   33                3           240               39.17   \n",
       "4   C0005    Male   24                6           120               63.42   \n",
       "5   C0006    Male   30                3           300               30.87   \n",
       "\n",
       "   cross_sell_conversion_rate  \n",
       "0                    0.597870  \n",
       "1                    0.087063  \n",
       "2                    0.441260  \n",
       "3                    0.553303  \n",
       "4                    0.860697  \n",
       "5                    0.205205  "
      ]
     },
     "execution_count": 60,
     "metadata": {},
     "output_type": "execute_result"
    }
   ],
   "source": [
    "df=pd.read_csv('ecommerce_data.csv')\n",
    "df.head(6)"
   ]
  },
  {
   "cell_type": "code",
   "execution_count": 61,
   "id": "aa1c8fed-c91a-47de-a280-5c8354716dc6",
   "metadata": {},
   "outputs": [
    {
     "data": {
      "text/plain": [
       "1000"
      ]
     },
     "execution_count": 61,
     "metadata": {},
     "output_type": "execute_result"
    }
   ],
   "source": [
    "len(df['no_of_purchases'] )"
   ]
  },
  {
   "cell_type": "code",
   "execution_count": 6,
   "id": "6734ff67-495c-4181-9045-c1ea48e215f5",
   "metadata": {},
   "outputs": [
    {
     "data": {
      "text/plain": [
       "cust_id                       0\n",
       "gender                        0\n",
       "age                           0\n",
       "no_of_purchases               0\n",
       "amount_spend                  0\n",
       "time_spent_on_site            0\n",
       "cross_sell_conversion_rate    0\n",
       "dtype: int64"
      ]
     },
     "execution_count": 6,
     "metadata": {},
     "output_type": "execute_result"
    }
   ],
   "source": [
    "df.isnull().sum()"
   ]
  },
  {
   "cell_type": "code",
   "execution_count": null,
   "id": "a5fba8b4-eb1f-4b69-9dd1-d4829c723ad2",
   "metadata": {},
   "outputs": [],
   "source": []
  },
  {
   "cell_type": "markdown",
   "id": "2687fea1-4ea6-44e4-a663-2154db1444b6",
   "metadata": {},
   "source": [
    " __What is the range of the customer age in the dataset?__"
   ]
  },
  {
   "cell_type": "code",
   "execution_count": 8,
   "id": "488feb99-89b8-44c5-84f9-be1a66dd7c46",
   "metadata": {},
   "outputs": [
    {
     "name": "stdout",
     "output_type": "stream",
     "text": [
      "47\n"
     ]
    }
   ],
   "source": [
    "range=df['age'].max()-df['age'].min()\n",
    "print(range)"
   ]
  },
  {
   "cell_type": "code",
   "execution_count": null,
   "id": "30cf2937-f86e-4791-a4ee-9c279c7ddbe5",
   "metadata": {},
   "outputs": [],
   "source": []
  },
  {
   "cell_type": "markdown",
   "id": "18014388-cd6e-4544-8999-3050344cc41d",
   "metadata": {},
   "source": [
    "__Calculate the mean, median, and mode for the amount spent by customers. This\n",
    " will help in understanding the central tendencies of customer spending behavior__"
   ]
  },
  {
   "cell_type": "code",
   "execution_count": 24,
   "id": "07268b3a-26e1-4bbf-9a2e-5ac419016679",
   "metadata": {},
   "outputs": [
    {
     "name": "stdout",
     "output_type": "stream",
     "text": [
      "238.23\n"
     ]
    }
   ],
   "source": [
    "mean=df['amount_spend'].mean()\n",
    "print(mean)"
   ]
  },
  {
   "cell_type": "code",
   "execution_count": 10,
   "id": "3fe66c43-c678-4c89-8fce-7b254e849f94",
   "metadata": {},
   "outputs": [
    {
     "data": {
      "text/plain": [
       "200.0"
      ]
     },
     "execution_count": 10,
     "metadata": {},
     "output_type": "execute_result"
    }
   ],
   "source": [
    "df['amount_spend'].median()"
   ]
  },
  {
   "cell_type": "code",
   "execution_count": 11,
   "id": "29c3a7e8-13b0-40b4-9ee7-bdd0734095ad",
   "metadata": {},
   "outputs": [
    {
     "data": {
      "text/plain": [
       "0    240\n",
       "Name: amount_spend, dtype: int64"
      ]
     },
     "execution_count": 11,
     "metadata": {},
     "output_type": "execute_result"
    }
   ],
   "source": [
    "df['amount_spend'].mode()"
   ]
  },
  {
   "cell_type": "code",
   "execution_count": null,
   "id": "846d72ff-3cc9-4373-b636-13fd6440e44c",
   "metadata": {},
   "outputs": [],
   "source": []
  },
  {
   "cell_type": "markdown",
   "id": "212f959b-5b91-4768-883e-0024cd6b886b",
   "metadata": {},
   "source": [
    " __Compute the variance and standard deviation for the time spent on site to\n",
    " analyze the variability in how much time customers spend on the website.__"
   ]
  },
  {
   "cell_type": "code",
   "execution_count": 13,
   "id": "6439f478-289a-4676-a6fc-7ac282cfbeff",
   "metadata": {},
   "outputs": [
    {
     "data": {
      "text/plain": [
       "277.7820234913914"
      ]
     },
     "execution_count": 13,
     "metadata": {},
     "output_type": "execute_result"
    }
   ],
   "source": [
    "df['time_spent_on_site'].var()"
   ]
  },
  {
   "cell_type": "code",
   "execution_count": 14,
   "id": "9c47687f-54e4-4a4e-926f-038316082a06",
   "metadata": {},
   "outputs": [
    {
     "data": {
      "text/plain": [
       "16.666794037588375"
      ]
     },
     "execution_count": 14,
     "metadata": {},
     "output_type": "execute_result"
    }
   ],
   "source": [
    "df['time_spent_on_site'].std()"
   ]
  },
  {
   "cell_type": "code",
   "execution_count": null,
   "id": "da08e886-3946-455c-85ca-089e44633421",
   "metadata": {},
   "outputs": [],
   "source": []
  },
  {
   "cell_type": "markdown",
   "id": "0d0b38ec-38f9-44c0-a95f-43119bea7a68",
   "metadata": {},
   "source": [
    "__Calculate the interquartile range (IQR) for the amount spent by customers. This\n",
    " will help understand the spread of customer spending.__"
   ]
  },
  {
   "cell_type": "code",
   "execution_count": 16,
   "id": "49abefaf-3f48-4dd6-948e-4e3d9be3b5f6",
   "metadata": {},
   "outputs": [],
   "source": [
    "Q1,Q3=df['amount_spend'].quantile([0.25,0.75])"
   ]
  },
  {
   "cell_type": "code",
   "execution_count": 18,
   "id": "02b0cc7a-52b5-4656-86e4-482a9a086361",
   "metadata": {},
   "outputs": [
    {
     "name": "stdout",
     "output_type": "stream",
     "text": [
      "200.0\n"
     ]
    }
   ],
   "source": [
    "IQR=Q3-Q1\n",
    "print(IQR)"
   ]
  },
  {
   "cell_type": "code",
   "execution_count": null,
   "id": "9621203f-4f73-4580-adcf-4d3e9b5d42ea",
   "metadata": {},
   "outputs": [],
   "source": []
  },
  {
   "cell_type": "markdown",
   "id": "d3fd3bf2-c3ac-47d7-85ad-a8ec8217ca78",
   "metadata": {},
   "source": [
    "__Is there any significant relationship between no.of purchases made and time\n",
    " spent on site? What is the correlation between the two?__"
   ]
  },
  {
   "cell_type": "markdown",
   "id": "05862ce4-7480-41dc-8086-4de5a3e48bba",
   "metadata": {},
   "source": [
    "\n",
    "\n",
    "correlation = df['no_of_purchases'].corr(df['time_spent_on_site'])\n",
    "\n",
    "print(\"Correlation:\", correlation)"
   ]
  },
  {
   "cell_type": "code",
   "execution_count": null,
   "id": "42f388f5-3922-4f15-a5ca-fdfda25429b3",
   "metadata": {},
   "outputs": [],
   "source": []
  },
  {
   "cell_type": "markdown",
   "id": "117f0846-401d-45c3-95d6-b38f2a0b60ef",
   "metadata": {},
   "source": [
    " __Howindividual customer spending compares to the average. Calculate the\n",
    " z-score for a customer who spends $450.__"
   ]
  },
  {
   "cell_type": "code",
   "execution_count": 25,
   "id": "46dd38f9-0f7e-49ec-8a4f-e0acae0fe24b",
   "metadata": {},
   "outputs": [
    {
     "name": "stdout",
     "output_type": "stream",
     "text": [
      "155.93743483712814\n"
     ]
    }
   ],
   "source": [
    "std=df['amount_spend'].std()\n",
    "print(std)"
   ]
  },
  {
   "cell_type": "code",
   "execution_count": 26,
   "id": "e316294f-dde9-407b-b72c-5f928b2cb59f",
   "metadata": {},
   "outputs": [],
   "source": [
    "z_score=(450-238.23)/(155.9374)"
   ]
  },
  {
   "cell_type": "code",
   "execution_count": 27,
   "id": "c2774293-9761-45a0-8700-45f32afee48a",
   "metadata": {},
   "outputs": [
    {
     "name": "stdout",
     "output_type": "stream",
     "text": [
      "1.3580449590669077\n"
     ]
    }
   ],
   "source": [
    "print(z_score)"
   ]
  },
  {
   "cell_type": "code",
   "execution_count": 30,
   "id": "f31bea84-3764-40ad-80f3-27e2f2334016",
   "metadata": {},
   "outputs": [],
   "source": [
    "###z_Score hihh means spending more than average (A higher z-score indicates the\n",
    " ###customer is significantly above the average spending level, identifying them as a\n",
    " ###potential high-value customer"
   ]
  },
  {
   "cell_type": "code",
   "execution_count": null,
   "id": "ffc9f36d-c481-4329-bd16-58c53b7ea015",
   "metadata": {},
   "outputs": [],
   "source": []
  },
  {
   "cell_type": "markdown",
   "id": "071f42ea-db20-44e4-ba52-b0c989675e45",
   "metadata": {},
   "source": [
    "__Analyze the skewness of the distribution of the amount spent by customers. Is\n",
    " the data right-skewed or left-skewed?__"
   ]
  },
  {
   "cell_type": "code",
   "execution_count": 28,
   "id": "6827a357-65f4-486e-ae9b-1a25efe7f207",
   "metadata": {},
   "outputs": [
    {
     "name": "stdout",
     "output_type": "stream",
     "text": [
      "Skewness: 0.9581333410091916\n"
     ]
    }
   ],
   "source": [
    "skewness = df['amount_spend'].skew()\n",
    "print(\"Skewness:\", skewness)"
   ]
  },
  {
   "cell_type": "code",
   "execution_count": null,
   "id": "28820a21-c2ef-41b6-9d69-0701ce995c40",
   "metadata": {},
   "outputs": [],
   "source": []
  },
  {
   "cell_type": "markdown",
   "id": "6e47ed21-42ac-4cf3-8038-e4563bcc61e4",
   "metadata": {},
   "source": [
    "__What is the probability that a randomly selected customer makes more than 5\n",
    " purchases in a month or spends more than $300__"
   ]
  },
  {
   "cell_type": "code",
   "execution_count": 65,
   "id": "61799fb4-3fc6-41fe-9c37-cd7d6858b750",
   "metadata": {},
   "outputs": [
    {
     "name": "stdout",
     "output_type": "stream",
     "text": [
      "Probability that a customer makes more than 5 purchases or spends more than $300: 0.396\n"
     ]
    }
   ],
   "source": [
    "# Condition A: Customers with more than 5 purchases\n",
    "condition_a = df['no_of_purchases']>5\n",
    "p_a = condition_a.mean()  # P(A)\n",
    "\n",
    "# Condition B: Customers who spend more than $300\n",
    "condition_b = df['amount_spend']>300\n",
    "p_b = condition_b.mean()  # P(B)\n",
    "\n",
    "# Condition A and B: Customers with more than 5 purchases and spending more than $300\n",
    "condition_a_and_b = condition_a & condition_b\n",
    "p_a_and_b = condition_a_and_b.mean()  # P(A and B)\n",
    "\n",
    "# Applying the addition rule\n",
    "probability = p_a + p_b - p_a_and_b\n",
    "\n",
    "print(\"Probability that a customer makes more than 5 purchases or spends more than $300:\", probability)"
   ]
  },
  {
   "cell_type": "code",
   "execution_count": null,
   "id": "2c50e645-bbe0-4007-94b8-3222575e80bd",
   "metadata": {},
   "outputs": [],
   "source": []
  },
  {
   "cell_type": "markdown",
   "id": "ec230487-f0fb-4369-b58e-257220e4b5a3",
   "metadata": {},
   "source": [
    "__Determine the 95% confidence interval for the amount spent by all customers.\n",
    " This will provide an estimate of the range in which the true average spending is\n",
    " likely to fall.__"
   ]
  },
  {
   "cell_type": "code",
   "execution_count": 68,
   "id": "ac46a3d0-8a1c-48d0-978b-ca2dd55b415d",
   "metadata": {},
   "outputs": [
    {
     "name": "stdout",
     "output_type": "stream",
     "text": [
      "95% Confidence Interval for amount spent: (228.5648976552395, 247.8951023447605)\n"
     ]
    }
   ],
   "source": [
    "\n",
    "# Step 1: Calculate the sample mean and sample standard deviation\n",
    "mean_amount = df['amount_spend'].mean()\n",
    "std_dev_amount = df['amount_spend'].std()\n",
    "\n",
    "# Step 2: Determine the z-critical value for a 95% confidence level\n",
    "z_critical = 1.96  # for 95% confidence level\n",
    "\n",
    "# Step 3: Calculate the margin of error\n",
    "n = len(df['amount_spend'])  # Sample size\n",
    "margin_of_error = z_critical * (std_dev_amount / np.sqrt(n))\n",
    "\n",
    "# Step 4: Calculate the confidence interval\n",
    "confidence_interval = (mean_amount - margin_of_error, mean_amount + margin_of_error)\n",
    "\n",
    "print(\"95% Confidence Interval for amount spent:\", confidence_interval)\n"
   ]
  },
  {
   "cell_type": "code",
   "execution_count": null,
   "id": "47bcacb1-ddfb-4f65-82f1-f3adb0f0b01a",
   "metadata": {},
   "outputs": [],
   "source": []
  },
  {
   "cell_type": "markdown",
   "id": "9eacf506-8e38-41d2-82f5-7e0e295047da",
   "metadata": {},
   "source": [
    "__What is the probability that a customer who makes 5 or more purchases in a\n",
    " month will have a high cross-sell conversion rate (greater than 80%)?__"
   ]
  },
  {
   "cell_type": "code",
   "execution_count": null,
   "id": "db7d2b71-7eff-403f-999d-f9c00b73ed0e",
   "metadata": {},
   "outputs": [],
   "source": [
    "\n",
    "\n",
    "# Step 1: Filter for customers with 5 or more purchases\n",
    "condition_purchases = df['no_of_purchases'] >= 5\n",
    "df_high_purchases = df[condition_purchases]\n",
    "\n",
    "# Step 2: Calculate probability of having a high cross-sell rate (> 80%) within this group\n",
    "condition_high_cross_sell = df_high_purchases['cross_sell_conversion_rate'] > 0.8\n",
    "p_high_cross_sell_given_high_purchases = condition_high_cross_sell.mean()\n",
    "\n",
    "print(\"Probability that a customer with 5 or more purchases has a high cross-sell rate:\", p_high_cross_sell_given_high_purchases)"
   ]
  },
  {
   "cell_type": "code",
   "execution_count": null,
   "id": "4a547ac6-729f-4dad-be53-494f4fc83395",
   "metadata": {},
   "outputs": [],
   "source": []
  }
 ],
 "metadata": {
  "kernelspec": {
   "display_name": "Python [conda env:base] *",
   "language": "python",
   "name": "conda-base-py"
  },
  "language_info": {
   "codemirror_mode": {
    "name": "ipython",
    "version": 3
   },
   "file_extension": ".py",
   "mimetype": "text/x-python",
   "name": "python",
   "nbconvert_exporter": "python",
   "pygments_lexer": "ipython3",
   "version": "3.12.3"
  }
 },
 "nbformat": 4,
 "nbformat_minor": 5
}
